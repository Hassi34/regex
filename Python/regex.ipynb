{
 "cells": [
  {
   "cell_type": "code",
   "execution_count": 1,
   "id": "1f55d130",
   "metadata": {},
   "outputs": [],
   "source": [
    "import re "
   ]
  },
  {
   "cell_type": "code",
   "execution_count": 33,
   "id": "e5aaa665",
   "metadata": {},
   "outputs": [
    {
     "name": "stdout",
     "output_type": "stream",
     "text": [
      "<re.Match object; span=(3, 6), match='abc'>\n",
      "<re.Match object; span=(13, 16), match='abc'>\n"
     ]
    }
   ],
   "source": [
    "test_string = '123abc4568686abc02494592ABC034AB.'\n",
    "pattern = re.compile(r\"abc\")\n",
    "matches = pattern.finditer(test_string)\n",
    "\n",
    "# Methods : match(), search() , findall(), finditer()\n",
    "# Functions : split, sub\n",
    "\n",
    "for match in matches:\n",
    "    print(match)"
   ]
  },
  {
   "cell_type": "code",
   "execution_count": 34,
   "id": "72d089b8",
   "metadata": {},
   "outputs": [
    {
     "name": "stdout",
     "output_type": "stream",
     "text": [
      "abc\n",
      "abc\n"
     ]
    }
   ],
   "source": [
    "##findall(will return str)\n",
    "pattern = re.compile(r\"abc\")\n",
    "matches = pattern.findall(test_string)\n",
    "for match in matches:\n",
    "    print(match)"
   ]
  },
  {
   "cell_type": "code",
   "execution_count": 35,
   "id": "d1d57c74",
   "metadata": {},
   "outputs": [
    {
     "name": "stdout",
     "output_type": "stream",
     "text": [
      "123\n"
     ]
    }
   ],
   "source": [
    "#match: it will only return if something is available at the beginning of the string\n",
    "pattern = re.compile(r\"123\")\n",
    "matches = pattern.findall(test_string)\n",
    "for match in matches:\n",
    "    print(match)"
   ]
  },
  {
   "cell_type": "code",
   "execution_count": 36,
   "id": "ac5da63b",
   "metadata": {},
   "outputs": [
    {
     "name": "stdout",
     "output_type": "stream",
     "text": [
      "<re.Match object; span=(3, 6), match='abc'>\n"
     ]
    }
   ],
   "source": [
    "#search : it will search in the string and return the first matching\n",
    "pattern = re.compile(r\"abc\")\n",
    "match = pattern.search(test_string)\n",
    "print(match)"
   ]
  },
  {
   "cell_type": "code",
   "execution_count": 37,
   "id": "afe8b097",
   "metadata": {},
   "outputs": [
    {
     "name": "stdout",
     "output_type": "stream",
     "text": [
      "(3, 6) 3 6\n",
      "abc\n",
      "(13, 16) 13 16\n",
      "abc\n"
     ]
    }
   ],
   "source": [
    "pattern = re.compile(r\"abc\")\n",
    "matches = pattern.finditer(test_string)\n",
    "\n",
    "for match in matches:\n",
    "    print(match.span(), match.start(), match.end())\n",
    "    print(match.group())"
   ]
  },
  {
   "cell_type": "markdown",
   "id": "19954f36",
   "metadata": {},
   "source": [
    "## Meta Characters : \n",
    "### .  , ^ ,  $ , * , + ,  ? , { } , [  ] , \\ , | , (  )  "
   ]
  },
  {
   "cell_type": "code",
   "execution_count": 44,
   "id": "616c1b10",
   "metadata": {},
   "outputs": [],
   "source": [
    "### . : Any character (except new line character)<br>\n",
    "### ^ :  starts with \"^Hello\"\n",
    "### $ : ends with \"world$\"\n",
    "### * : zero or more occurances \"aix*\"\n",
    "### + : One or more occurances \"aix+\"\n",
    "### {}: Exactly the specified number of occurances \"al{2}\"\n",
    "### []: A set of characters \"[a-m]\"\n",
    "### \\ : Special squance (or escape special characters) \"\\d\"\n",
    "### | : either or \"falls|stays\"\n",
    "### () : Capture and group\n",
    "\n",
    "## More Special Characters:\n",
    "### \\d : Matches any decimal digit; [0,9]\n",
    "### \\D : Matches any non-digit Character\n",
    "### \\s : Matches any whitespace charater ( space \" \" tab \"\\t\" newline \"\\n\" )\n",
    "### \\S : Matches any non-whitespace character \n",
    "### \\w : Matches any alphanumeric (word) character [a-zA-Z0-9_]\n",
    "### \\w : Matches any non-alphanumeric character (word) \n",
    "### \\b : Matches where the specific characters are at the beginning or at the end of a word r\"\\bain\" r\"ain\\b\"\n",
    "### \\B : Matches where the specified charaters are present, but NOT at the beginning (or at the end) of a word r\"\\Bain\" r\"ain\\B\""
   ]
  },
  {
   "cell_type": "code",
   "execution_count": 45,
   "id": "0ae8030d",
   "metadata": {},
   "outputs": [
    {
     "name": "stdout",
     "output_type": "stream",
     "text": [
      "1\n",
      "2\n",
      "3\n",
      "a\n",
      "b\n",
      "c\n",
      "4\n",
      "5\n",
      "6\n",
      "8\n",
      "6\n",
      "8\n",
      "6\n",
      "a\n",
      "b\n",
      "c\n",
      "0\n",
      "2\n",
      "4\n",
      "9\n",
      "4\n",
      "5\n",
      "9\n",
      "2\n",
      "A\n",
      "B\n",
      "C\n",
      "0\n",
      "3\n",
      "4\n",
      "A\n",
      "B\n",
      ".\n"
     ]
    }
   ],
   "source": [
    "pattern = re.compile(r\".\")\n",
    "matches = pattern.finditer(test_string)\n",
    "\n",
    "for match in matches:\n",
    "    print(match.group())"
   ]
  },
  {
   "cell_type": "code",
   "execution_count": 46,
   "id": "80a638ed",
   "metadata": {},
   "outputs": [
    {
     "name": "stdout",
     "output_type": "stream",
     "text": [
      ".\n"
     ]
    }
   ],
   "source": [
    "pattern = re.compile(r\"\\.\") #we escape it then find the character\n",
    "matches = pattern.finditer(test_string)\n",
    "\n",
    "for match in matches:\n",
    "    print(match.group())"
   ]
  },
  {
   "cell_type": "code",
   "execution_count": 47,
   "id": "98b3242e",
   "metadata": {},
   "outputs": [
    {
     "name": "stdout",
     "output_type": "stream",
     "text": [
      "123\n"
     ]
    }
   ],
   "source": [
    "pattern = re.compile(r\"^123\")\n",
    "matches = pattern.finditer(test_string)\n",
    "\n",
    "for match in matches:\n",
    "    print(match.group())"
   ]
  },
  {
   "cell_type": "code",
   "execution_count": 48,
   "id": "b956c147",
   "metadata": {},
   "outputs": [
    {
     "name": "stdout",
     "output_type": "stream",
     "text": [
      "AB.\n"
     ]
    }
   ],
   "source": [
    "pattern = re.compile(r\"AB.$\")\n",
    "matches = pattern.finditer(test_string)\n",
    "\n",
    "for match in matches:\n",
    "    print(match.group())"
   ]
  },
  {
   "cell_type": "code",
   "execution_count": 84,
   "id": "4950e624",
   "metadata": {},
   "outputs": [
    {
     "name": "stdout",
     "output_type": "stream",
     "text": [
      "1\n",
      "2\n",
      "3\n"
     ]
    }
   ],
   "source": [
    "test_string1 = \"hello HELLO _123_ heyho hohey\"\n",
    "# all the digits\n",
    "pattern = re.compile(r\"\\d\")\n",
    "matches = pattern.finditer(test_string1)\n",
    "for match in matches :\n",
    "    print(match.group())"
   ]
  },
  {
   "cell_type": "code",
   "execution_count": 85,
   "id": "1bc6ec71",
   "metadata": {},
   "outputs": [
    {
     "name": "stdout",
     "output_type": "stream",
     "text": [
      "h\n",
      "e\n",
      "l\n",
      "l\n",
      "o\n",
      " \n",
      "H\n",
      "E\n",
      "L\n",
      "L\n",
      "O\n",
      " \n",
      "_\n",
      "_\n",
      " \n",
      "h\n",
      "e\n",
      "y\n",
      "h\n",
      "o\n",
      " \n",
      "h\n",
      "o\n",
      "h\n",
      "e\n",
      "y\n"
     ]
    }
   ],
   "source": [
    "#all non-digit\n",
    "pattern = re.compile(r\"\\D\")\n",
    "matches = pattern.finditer(test_string1)\n",
    "for match in matches :\n",
    "    print(match.group())"
   ]
  },
  {
   "cell_type": "code",
   "execution_count": 86,
   "id": "e9a70024",
   "metadata": {},
   "outputs": [
    {
     "name": "stdout",
     "output_type": "stream",
     "text": [
      "<re.Match object; span=(5, 6), match=' '>\n",
      "<re.Match object; span=(11, 12), match=' '>\n",
      "<re.Match object; span=(17, 18), match=' '>\n",
      "<re.Match object; span=(23, 24), match=' '>\n"
     ]
    }
   ],
   "source": [
    "#whitespace charaters\n",
    "pattern = re.compile(r\"\\s\")\n",
    "matches = pattern.finditer(test_string1)\n",
    "for match in matches :\n",
    "    print(match)"
   ]
  },
  {
   "cell_type": "code",
   "execution_count": 87,
   "id": "50f4067d",
   "metadata": {},
   "outputs": [
    {
     "name": "stdout",
     "output_type": "stream",
     "text": [
      "<re.Match object; span=(0, 1), match='h'>\n",
      "<re.Match object; span=(1, 2), match='e'>\n",
      "<re.Match object; span=(2, 3), match='l'>\n",
      "<re.Match object; span=(3, 4), match='l'>\n",
      "<re.Match object; span=(4, 5), match='o'>\n",
      "<re.Match object; span=(6, 7), match='H'>\n",
      "<re.Match object; span=(7, 8), match='E'>\n",
      "<re.Match object; span=(8, 9), match='L'>\n",
      "<re.Match object; span=(9, 10), match='L'>\n",
      "<re.Match object; span=(10, 11), match='O'>\n",
      "<re.Match object; span=(12, 13), match='_'>\n",
      "<re.Match object; span=(13, 14), match='1'>\n",
      "<re.Match object; span=(14, 15), match='2'>\n",
      "<re.Match object; span=(15, 16), match='3'>\n",
      "<re.Match object; span=(16, 17), match='_'>\n",
      "<re.Match object; span=(18, 19), match='h'>\n",
      "<re.Match object; span=(19, 20), match='e'>\n",
      "<re.Match object; span=(20, 21), match='y'>\n",
      "<re.Match object; span=(21, 22), match='h'>\n",
      "<re.Match object; span=(22, 23), match='o'>\n",
      "<re.Match object; span=(24, 25), match='h'>\n",
      "<re.Match object; span=(25, 26), match='o'>\n",
      "<re.Match object; span=(26, 27), match='h'>\n",
      "<re.Match object; span=(27, 28), match='e'>\n",
      "<re.Match object; span=(28, 29), match='y'>\n"
     ]
    }
   ],
   "source": [
    "#Non-Whitespace\n",
    "pattern = re.compile(r\"\\S\")\n",
    "matches = pattern.finditer(test_string1)\n",
    "for match in matches :\n",
    "    print(match)"
   ]
  },
  {
   "cell_type": "code",
   "execution_count": 88,
   "id": "d2f664bb",
   "metadata": {},
   "outputs": [
    {
     "name": "stdout",
     "output_type": "stream",
     "text": [
      "<re.Match object; span=(0, 1), match='h'>\n",
      "<re.Match object; span=(1, 2), match='e'>\n",
      "<re.Match object; span=(2, 3), match='l'>\n",
      "<re.Match object; span=(3, 4), match='l'>\n",
      "<re.Match object; span=(4, 5), match='o'>\n",
      "<re.Match object; span=(6, 7), match='H'>\n",
      "<re.Match object; span=(7, 8), match='E'>\n",
      "<re.Match object; span=(8, 9), match='L'>\n",
      "<re.Match object; span=(9, 10), match='L'>\n",
      "<re.Match object; span=(10, 11), match='O'>\n",
      "<re.Match object; span=(12, 13), match='_'>\n",
      "<re.Match object; span=(13, 14), match='1'>\n",
      "<re.Match object; span=(14, 15), match='2'>\n",
      "<re.Match object; span=(15, 16), match='3'>\n",
      "<re.Match object; span=(16, 17), match='_'>\n",
      "<re.Match object; span=(18, 19), match='h'>\n",
      "<re.Match object; span=(19, 20), match='e'>\n",
      "<re.Match object; span=(20, 21), match='y'>\n",
      "<re.Match object; span=(21, 22), match='h'>\n",
      "<re.Match object; span=(22, 23), match='o'>\n",
      "<re.Match object; span=(24, 25), match='h'>\n",
      "<re.Match object; span=(25, 26), match='o'>\n",
      "<re.Match object; span=(26, 27), match='h'>\n",
      "<re.Match object; span=(27, 28), match='e'>\n",
      "<re.Match object; span=(28, 29), match='y'>\n"
     ]
    }
   ],
   "source": [
    "#all the word characters\n",
    "pattern = re.compile(r\"\\w\")\n",
    "matches = pattern.finditer(test_string1)\n",
    "for match in matches :\n",
    "    print(match)"
   ]
  },
  {
   "cell_type": "code",
   "execution_count": 89,
   "id": "5b00f43b",
   "metadata": {},
   "outputs": [
    {
     "name": "stdout",
     "output_type": "stream",
     "text": [
      "<re.Match object; span=(5, 6), match=' '>\n",
      "<re.Match object; span=(11, 12), match=' '>\n",
      "<re.Match object; span=(17, 18), match=' '>\n",
      "<re.Match object; span=(23, 24), match=' '>\n"
     ]
    }
   ],
   "source": [
    "#Non-word character\n",
    "pattern = re.compile(r\"\\W\")\n",
    "matches = pattern.finditer(test_string1)\n",
    "for match in matches :\n",
    "    print(match)"
   ]
  },
  {
   "cell_type": "code",
   "execution_count": 90,
   "id": "9aa31fa7",
   "metadata": {},
   "outputs": [
    {
     "name": "stdout",
     "output_type": "stream",
     "text": [
      "<re.Match object; span=(18, 21), match='hey'>\n"
     ]
    }
   ],
   "source": [
    "#first in any text block\n",
    "pattern = re.compile(r\"\\bhey\")\n",
    "matches = pattern.finditer(test_string1)\n",
    "for match in matches :\n",
    "    print(match)"
   ]
  },
  {
   "cell_type": "code",
   "execution_count": 91,
   "id": "d6653429",
   "metadata": {},
   "outputs": [
    {
     "name": "stdout",
     "output_type": "stream",
     "text": [
      "<re.Match object; span=(26, 29), match='hey'>\n"
     ]
    }
   ],
   "source": [
    "# which is not at the beginning of the block\n",
    "pattern = re.compile(r\"\\Bhey\")\n",
    "matches = pattern.finditer(test_string1)\n",
    "for match in matches :\n",
    "    print(match)"
   ]
  },
  {
   "cell_type": "code",
   "execution_count": 92,
   "id": "0aae4f07",
   "metadata": {},
   "outputs": [
    {
     "name": "stdout",
     "output_type": "stream",
     "text": [
      "<re.Match object; span=(0, 1), match='h'>\n",
      "<re.Match object; span=(1, 2), match='e'>\n",
      "<re.Match object; span=(2, 3), match='l'>\n",
      "<re.Match object; span=(3, 4), match='l'>\n",
      "<re.Match object; span=(4, 5), match='o'>\n",
      "<re.Match object; span=(6, 7), match='H'>\n",
      "<re.Match object; span=(7, 8), match='E'>\n",
      "<re.Match object; span=(8, 9), match='L'>\n",
      "<re.Match object; span=(9, 10), match='L'>\n",
      "<re.Match object; span=(10, 11), match='O'>\n",
      "<re.Match object; span=(13, 14), match='1'>\n",
      "<re.Match object; span=(14, 15), match='2'>\n",
      "<re.Match object; span=(15, 16), match='3'>\n",
      "<re.Match object; span=(18, 19), match='h'>\n",
      "<re.Match object; span=(19, 20), match='e'>\n",
      "<re.Match object; span=(20, 21), match='y'>\n",
      "<re.Match object; span=(21, 22), match='h'>\n",
      "<re.Match object; span=(22, 23), match='o'>\n",
      "<re.Match object; span=(24, 25), match='h'>\n",
      "<re.Match object; span=(25, 26), match='o'>\n",
      "<re.Match object; span=(26, 27), match='h'>\n",
      "<re.Match object; span=(27, 28), match='e'>\n",
      "<re.Match object; span=(28, 29), match='y'>\n"
     ]
    }
   ],
   "source": [
    "#all the character matching to the list provided except the numbers(sets)\n",
    "pattern = re.compile(r\"[a-zA-Z0-9]\")\n",
    "matches = pattern.finditer(test_string1)\n",
    "for match in matches :\n",
    "    print(match)"
   ]
  },
  {
   "cell_type": "code",
   "execution_count": 93,
   "id": "a4dc47db",
   "metadata": {},
   "outputs": [],
   "source": [
    "### Quantifier\n",
    "## * : 0 or more <br>\n",
    "## + : 1 or more <br>\n",
    "## ? : 0 or 1, -> optional character\n",
    "## {4} : exact number \n",
    "## {4,6} : range numbers (min, max)"
   ]
  },
  {
   "cell_type": "code",
   "execution_count": 94,
   "id": "6b3e580a",
   "metadata": {},
   "outputs": [
    {
     "name": "stdout",
     "output_type": "stream",
     "text": [
      "<re.Match object; span=(12, 16), match='_123'>\n"
     ]
    }
   ],
   "source": [
    "#one or more\n",
    "pattern = re.compile(r\"_\\d+\")\n",
    "matches = pattern.finditer(test_string1)\n",
    "for match in matches :\n",
    "    print(match)"
   ]
  },
  {
   "cell_type": "code",
   "execution_count": 101,
   "id": "79b9ca0d",
   "metadata": {},
   "outputs": [
    {
     "name": "stdout",
     "output_type": "stream",
     "text": [
      "<re.Match object; span=(6, 8), match='_1'>\n",
      "<re.Match object; span=(10, 11), match='2'>\n",
      "<re.Match object; span=(12, 14), match='_3'>\n"
     ]
    }
   ],
   "source": [
    "test_string2 = \"hello _1 -2 _3\"\n",
    "pattern = re.compile(r\"_?\\d\")\n",
    "matches = pattern.finditer(test_string2)\n",
    "for match in matches :\n",
    "    print(match)"
   ]
  },
  {
   "cell_type": "code",
   "execution_count": 103,
   "id": "6e2d7538",
   "metadata": {},
   "outputs": [
    {
     "name": "stdout",
     "output_type": "stream",
     "text": [
      "<re.Match object; span=(13, 16), match='123'>\n"
     ]
    }
   ],
   "source": [
    "test_string2 = \"hello _1 -2 _3\"\n",
    "pattern = re.compile(r\"\\d{1,3}\")\n",
    "matches = pattern.finditer(test_string1)\n",
    "for match in matches :\n",
    "    print(match)"
   ]
  },
  {
   "cell_type": "code",
   "execution_count": 106,
   "id": "65d76d67",
   "metadata": {},
   "outputs": [
    {
     "data": {
      "text/plain": [
       "'\\nhello\\n01.04.2020\\n\\n2020.04.01\\n\\n2020-04-01\\n2020-05-23\\n2020-06-11\\n2020-07-11\\n2020-08-11\\n\\n2020/04/02\\n\\n2020_04_04\\n2020_04_04\\n'"
      ]
     },
     "execution_count": 106,
     "metadata": {},
     "output_type": "execute_result"
    }
   ],
   "source": [
    "dates = '''\n",
    "hello\n",
    "01.04.2020\n",
    "\n",
    "2020.04.01\n",
    "\n",
    "2020-04-01\n",
    "2020-05-23\n",
    "2020-06-11\n",
    "2020-07-11\n",
    "2020-08-11\n",
    "\n",
    "2020/04/02\n",
    "\n",
    "2020_04_04\n",
    "2020_04_04\n",
    "'''\n",
    "dates"
   ]
  },
  {
   "cell_type": "code",
   "execution_count": 107,
   "id": "501ad5ae",
   "metadata": {},
   "outputs": [
    {
     "name": "stdout",
     "output_type": "stream",
     "text": [
      "<re.Match object; span=(19, 29), match='2020.04.01'>\n",
      "<re.Match object; span=(31, 41), match='2020-04-01'>\n",
      "<re.Match object; span=(42, 52), match='2020-05-23'>\n",
      "<re.Match object; span=(53, 63), match='2020-06-11'>\n",
      "<re.Match object; span=(64, 74), match='2020-07-11'>\n",
      "<re.Match object; span=(75, 85), match='2020-08-11'>\n",
      "<re.Match object; span=(87, 97), match='2020/04/02'>\n",
      "<re.Match object; span=(99, 109), match='2020_04_04'>\n",
      "<re.Match object; span=(110, 120), match='2020_04_04'>\n"
     ]
    }
   ],
   "source": [
    "pattern = re.compile(r\"\\d\\d\\d\\d.\\d\\d.\\d\\d\")\n",
    "matches = pattern.finditer(dates)\n",
    "for match in matches :\n",
    "    print(match)"
   ]
  },
  {
   "cell_type": "code",
   "execution_count": 108,
   "id": "0ef0290d",
   "metadata": {},
   "outputs": [
    {
     "name": "stdout",
     "output_type": "stream",
     "text": [
      "<re.Match object; span=(31, 41), match='2020-04-01'>\n",
      "<re.Match object; span=(42, 52), match='2020-05-23'>\n",
      "<re.Match object; span=(53, 63), match='2020-06-11'>\n",
      "<re.Match object; span=(64, 74), match='2020-07-11'>\n",
      "<re.Match object; span=(75, 85), match='2020-08-11'>\n"
     ]
    }
   ],
   "source": [
    "pattern = re.compile(r\"\\d\\d\\d\\d-\\d\\d-\\d\\d\")\n",
    "matches = pattern.finditer(dates)\n",
    "for match in matches :\n",
    "    print(match)"
   ]
  },
  {
   "cell_type": "code",
   "execution_count": 109,
   "id": "b4b862b2",
   "metadata": {},
   "outputs": [
    {
     "name": "stdout",
     "output_type": "stream",
     "text": [
      "<re.Match object; span=(31, 41), match='2020-04-01'>\n",
      "<re.Match object; span=(42, 52), match='2020-05-23'>\n",
      "<re.Match object; span=(53, 63), match='2020-06-11'>\n",
      "<re.Match object; span=(64, 74), match='2020-07-11'>\n",
      "<re.Match object; span=(75, 85), match='2020-08-11'>\n",
      "<re.Match object; span=(87, 97), match='2020/04/02'>\n"
     ]
    }
   ],
   "source": [
    "pattern = re.compile(r\"\\d\\d\\d\\d[-/]\\d\\d[-/]\\d\\d\")\n",
    "matches = pattern.finditer(dates)\n",
    "for match in matches :\n",
    "    print(match)"
   ]
  },
  {
   "cell_type": "code",
   "execution_count": 111,
   "id": "fb7bd609",
   "metadata": {},
   "outputs": [
    {
     "name": "stdout",
     "output_type": "stream",
     "text": [
      "<re.Match object; span=(42, 52), match='2020-05-23'>\n",
      "<re.Match object; span=(53, 63), match='2020-06-11'>\n",
      "<re.Match object; span=(64, 74), match='2020-07-11'>\n"
     ]
    }
   ],
   "source": [
    "#selecting for only may, june and july\n",
    "pattern = re.compile(r\"\\d\\d\\d\\d[-/]0[5-7][-/]\\d\\d\")\n",
    "matches = pattern.finditer(dates)\n",
    "for match in matches :\n",
    "    print(match)"
   ]
  },
  {
   "cell_type": "code",
   "execution_count": 112,
   "id": "38d065fd",
   "metadata": {},
   "outputs": [
    {
     "name": "stdout",
     "output_type": "stream",
     "text": [
      "<re.Match object; span=(42, 52), match='2020-05-23'>\n",
      "<re.Match object; span=(53, 63), match='2020-06-11'>\n",
      "<re.Match object; span=(64, 74), match='2020-07-11'>\n"
     ]
    }
   ],
   "source": [
    "#Making use of quantifier\n",
    "pattern = re.compile(r\"\\d{4}[-/]0[5-7][-/]\\d{2}\")\n",
    "matches = pattern.finditer(dates)\n",
    "for match in matches :\n",
    "    print(match)"
   ]
  },
  {
   "cell_type": "code",
   "execution_count": 137,
   "id": "f6258577",
   "metadata": {},
   "outputs": [
    {
     "name": "stdout",
     "output_type": "stream",
     "text": [
      "pythonengineer@gmail.com\n",
      "pythonengineer\n",
      "gmail\n",
      "com\n",
      "engineer@gmx.de\n",
      "engineer\n",
      "gmx\n",
      "de\n",
      "engineer123@my-domain.org\n",
      "engineer123\n",
      "my-domain\n",
      "org\n"
     ]
    }
   ],
   "source": [
    "## Conditions \n",
    "my_string = \"\"\"\n",
    "hello world\n",
    "1223\n",
    "2020-05-20\n",
    "Mr Simpson\n",
    "Mrs Simpson\n",
    "Mr. Brown\n",
    "Ms Smith\n",
    "Mr. T\n",
    "pythonengineer@gmail.com\n",
    "Python-engineer@gmx.de\n",
    "python-engineer123@my-domain.org\n",
    "\"\"\"\n",
    "pattern = re.compile(r\"([a-zA-Z0-9]+)@([a-zA-Z-]+)\\.(com|de|org)\") #() are defining the groups\n",
    "matches = pattern.finditer(my_string)\n",
    "for match in matches :\n",
    "    print(match.group())\n",
    "    print(match.group(1))\n",
    "    print(match.group(2))\n",
    "    print(match.group(3))"
   ]
  },
  {
   "cell_type": "code",
   "execution_count": 139,
   "id": "42b40a4b",
   "metadata": {},
   "outputs": [
    {
     "name": "stdout",
     "output_type": "stream",
     "text": [
      "<re.Match object; span=(29, 39), match='Mr Simpson'>\n",
      "<re.Match object; span=(40, 51), match='Mrs Simpson'>\n",
      "<re.Match object; span=(52, 61), match='Mr. Brown'>\n",
      "<re.Match object; span=(62, 70), match='Ms Smith'>\n",
      "<re.Match object; span=(71, 76), match='Mr. T'>\n"
     ]
    }
   ],
   "source": [
    "pattern = re.compile(r\"(Mr|Ms|Mrs)\\.?\\s\\w+\")\n",
    "matches = pattern.finditer(my_string)\n",
    "for match in matches :\n",
    "    print(match)"
   ]
  },
  {
   "cell_type": "code",
   "execution_count": 146,
   "id": "535d2b8b",
   "metadata": {},
   "outputs": [
    {
     "name": "stdout",
     "output_type": "stream",
     "text": [
      "['123', '123ABCDEF', '123ABC']\n",
      "Hello planet, planet is beautiful and big, planet\n"
     ]
    }
   ],
   "source": [
    "#split and sub\n",
    "#Split\n",
    "test_string3 = \"123abc123ABCDEFabc123ABC\"\n",
    "pattern = re.compile(r'abc')\n",
    "splitted = pattern.split(test_string3)\n",
    "print(splitted)\n",
    "#Sub\n",
    "test_string4 = 'Hello world, world is beautiful and big, world'\n",
    "pattern = re.compile(r'world')\n",
    "subbed_string = pattern.sub('planet', test_string4)\n",
    "print(subbed_string)"
   ]
  },
  {
   "cell_type": "code",
   "execution_count": 161,
   "id": "579e00e1",
   "metadata": {},
   "outputs": [
    {
     "name": "stdout",
     "output_type": "stream",
     "text": [
      "None\n",
      "www.\n",
      "www.\n",
      "\n",
      "Hassi\n",
      "Hello world\n",
      "2020-05-20\n",
      "python-engineer.com\n",
      "python-engineer.org\n",
      "pyeng.net\n",
      "\n"
     ]
    }
   ],
   "source": [
    "urls = \"\"\"\n",
    "Hassi\n",
    "Hello world\n",
    "2020-05-20\n",
    "http://python-engineer.com\n",
    "https://www.python-engineer.org\n",
    "http://www.pyeng.net\n",
    "\"\"\"\n",
    "pattern = re.compile(r'https?://(www\\.)?([a-zA-Z-]+)(\\.[a-zA-Z]+)')\n",
    "matches = pattern.finditer(urls)\n",
    "for match in matches:\n",
    "    print(match.group(1))\n",
    "    \n",
    "subbed_urls = pattern.sub(r\"\\2\\3\", urls)\n",
    "print(subbed_urls)\n"
   ]
  },
  {
   "cell_type": "code",
   "execution_count": 164,
   "id": "de0f642a",
   "metadata": {},
   "outputs": [
    {
     "name": "stdout",
     "output_type": "stream",
     "text": [
      "<re.Match object; span=(6, 11), match='WoRld'>\n"
     ]
    }
   ],
   "source": [
    "#Making use of complier to ignore the case sensitive\n",
    "test_string5 = 'Hello WoRld'\n",
    "pattern = re.compile(r'world', re.IGNORECASE)\n",
    "matches = pattern.finditer(test_string5)\n",
    "for match in matches:\n",
    "    print(match)"
   ]
  },
  {
   "cell_type": "code",
   "execution_count": null,
   "id": "d8a6ff10",
   "metadata": {},
   "outputs": [],
   "source": []
  }
 ],
 "metadata": {
  "hide_input": false,
  "kernelspec": {
   "display_name": "Python 3",
   "language": "python",
   "name": "python3"
  },
  "language_info": {
   "codemirror_mode": {
    "name": "ipython",
    "version": 3
   },
   "file_extension": ".py",
   "mimetype": "text/x-python",
   "name": "python",
   "nbconvert_exporter": "python",
   "pygments_lexer": "ipython3",
   "version": "3.7.6"
  }
 },
 "nbformat": 4,
 "nbformat_minor": 5
}
